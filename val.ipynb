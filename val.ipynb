{
 "cells": [
  {
   "cell_type": "code",
   "execution_count": null,
   "metadata": {},
   "outputs": [],
   "source": [
    "%reload_ext autoreload\n",
    "%autoreload 2\n",
    "%matplotlib inline\n",
    "\n",
    "import os\n",
    "import sys\n",
    "import argparse\n",
    "\n",
    "import torch\n",
    "import torch.nn as nn\n",
    "from torch.optim import lr_scheduler\n",
    "import torch.optim as optim\n",
    "import torchvision\n",
    "import torchvision.transforms as transforms\n",
    "from sklearn import metrics\n",
    "from matplotlib import pyplot as plt\n",
    "\n",
    "from dataset import *\n",
    "from resnet import *\n",
    "from classifier import *"
   ]
  },
  {
   "cell_type": "code",
   "execution_count": null,
   "metadata": {},
   "outputs": [],
   "source": [
    "# consts\n",
    "TRAIN_NAME = 'uda-test'\n",
    "TRAIN_ID = '10'\n",
    "EPOCH = 99\n",
    "\n",
    "# data consts\n",
    "ROOT_PATH = '/home/xd/data/chromo/class-2/uda'\n",
    "NUM_CLASSES = 2 # fg + 1(bg)\n",
    "INPUT_SIZE = 512\n",
    "BATCH_SIZE = 1\n",
    "NUM_WORKERS = 4\n",
    "\n",
    "# trainer consts\n",
    "DEVICE = 'cuda:1'"
   ]
  },
  {
   "cell_type": "code",
   "execution_count": null,
   "metadata": {},
   "outputs": [],
   "source": [
    "val_trans = transforms.Compose([\n",
    "    transforms.ToPILImage(),\n",
    "    PadSquare(),\n",
    "    transforms.Resize((INPUT_SIZE, INPUT_SIZE)),\n",
    "    transforms.ToTensor(),\n",
    "    transforms.Normalize(\n",
    "        mean=[0.485, 0.456, 0.406],\n",
    "        std=[0.229, 0.224, 0.225]\n",
    "    )\n",
    "])\n",
    "\n",
    "val_dataset = UdaDataset(\n",
    "    ROOT_PATH,\n",
    "    training=False,\n",
    "    image_ext='.png',\n",
    "    sup_transform=val_trans\n",
    ")\n",
    "\n",
    "val_loader = DataLoader(\n",
    "    val_dataset,\n",
    "    batch_size=BATCH_SIZE,\n",
    "    # batch_sampler=val_sampler,\n",
    "    shuffle=False,\n",
    "    num_workers=NUM_WORKERS,\n",
    "    pin_memory=True\n",
    ")"
   ]
  },
  {
   "cell_type": "code",
   "execution_count": null,
   "metadata": {},
   "outputs": [],
   "source": [
    "device = torch.device(DEVICE)\n",
    "\n",
    "model = resnet50(pretrained=True, num_classes=NUM_CLASSES)\n",
    "\n",
    "checkpoint_path = os.path.join('./models', '{}_{}'.format(TRAIN_NAME, TRAIN_ID), '{:0>3d}.pth'.format(EPOCH))\n",
    "cp_state_dict = torch.load(checkpoint_path, map_location='cpu')\n",
    "\n",
    "if 'module' in list(cp_state_dict.keys())[0]:\n",
    "    new_state_dict = {}\n",
    "    \n",
    "    for key, value in cp_state_dict.items():\n",
    "        new_state_dict[key.split('.', 1)[1]] = value\n",
    "    \n",
    "    model.load_state_dict(new_state_dict)\n",
    "else:\n",
    "    model.load_state_dict(cp_state_dict)\n",
    "\n",
    "'''\n",
    "if torch.cuda.device_count() > 1:\n",
    "    model = nn.DataParallel(model)\n",
    "'''\n",
    "model = model.to(device)"
   ]
  },
  {
   "cell_type": "code",
   "execution_count": null,
   "metadata": {},
   "outputs": [],
   "source": [
    "all_preds = []\n",
    "all_scores = []\n",
    "all_gts = []\n",
    "\n",
    "model.eval()\n",
    "\n",
    "with torch.no_grad():\n",
    "    with tqdm(total=len(val_loader), file=sys.stdout) as pbar:\n",
    "        for iter_no, (imgs, gts) in enumerate(val_loader):\n",
    "            imgs = imgs.to(device)\n",
    "            gts = gts.to(device)\n",
    "\n",
    "            results = model(imgs)\n",
    "            \n",
    "            scores = nn.functional.softmax(results, dim=1)[:, 1]\n",
    "            \n",
    "            # be ware torch.max is overloaded\n",
    "            preds = torch.max(nn.functional.softmax(results, dim=1), 1)[1]\n",
    "            \n",
    "            all_scores.append(scores.cpu().view(-1))\n",
    "            all_preds.append(preds.cpu().view(-1))\n",
    "            all_gts.append(gts.cpu().squeeze().view(-1))\n",
    "\n",
    "            pbar.update(1)\n",
    "        \n",
    "    all_scores = torch.cat(all_scores).numpy()\n",
    "    all_preds = torch.cat(all_preds).numpy()\n",
    "    all_gts = torch.cat(all_gts).numpy()\n",
    "    \n",
    "    f1 = metrics.f1_score(all_gts, all_preds)\n",
    "    precision = metrics.precision_score(all_gts, all_preds)\n",
    "    recall = metrics.recall_score(all_gts, all_preds)"
   ]
  },
  {
   "cell_type": "code",
   "execution_count": null,
   "metadata": {},
   "outputs": [],
   "source": [
    "print('f1: {:0.3f}, ap: {:0.3f}, ar: {:0.3f}'.format(f1, precision, recall))"
   ]
  },
  {
   "cell_type": "markdown",
   "metadata": {},
   "source": [
    "## visualize"
   ]
  },
  {
   "cell_type": "code",
   "execution_count": null,
   "metadata": {},
   "outputs": [],
   "source": [
    "VIS_COUNT = 20"
   ]
  },
  {
   "cell_type": "code",
   "execution_count": null,
   "metadata": {},
   "outputs": [],
   "source": [
    "with tqdm(total=len(val_loader), file=sys.stdout) as pbar:\n",
    "    for iter_no, sample in enumerate(zip(val_dataset, all_preds, all_scores)):\n",
    "        data, pred, score = sample\n",
    "        img, gt = data\n",
    "        \n",
    "        img = img.numpy().transpose((1, 2, 0))\n",
    "        \n",
    "        print(gt, pred, score)\n",
    "        \n",
    "        fig = plt.figure(figsize=(16,12))\n",
    "        plt.imshow(img)\n",
    "        plt.show()\n",
    "        \n",
    "        if iter_no == VIS_COUNT:\n",
    "            break"
   ]
  },
  {
   "cell_type": "code",
   "execution_count": null,
   "metadata": {},
   "outputs": [],
   "source": []
  }
 ],
 "metadata": {
  "kernelspec": {
   "display_name": "cc",
   "language": "python",
   "name": "pytorch"
  },
  "language_info": {
   "codemirror_mode": {
    "name": "ipython",
    "version": 3
   },
   "file_extension": ".py",
   "mimetype": "text/x-python",
   "name": "python",
   "nbconvert_exporter": "python",
   "pygments_lexer": "ipython3",
   "version": "3.7.6"
  }
 },
 "nbformat": 4,
 "nbformat_minor": 4
}
