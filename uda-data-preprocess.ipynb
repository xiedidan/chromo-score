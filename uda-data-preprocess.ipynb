{
 "cells": [
  {
   "cell_type": "code",
   "execution_count": 1,
   "metadata": {},
   "outputs": [],
   "source": [
    "import os\n",
    "import shutil\n",
    "\n",
    "from tqdm import tqdm"
   ]
  },
  {
   "cell_type": "code",
   "execution_count": 2,
   "metadata": {},
   "outputs": [],
   "source": [
    "root_path = '/home/xd/data/chromo/class-2'\n",
    "\n",
    "original_path = os.path.join(root_path, 'original')\n",
    "uda_path = os.path.join(root_path, 'uda')"
   ]
  },
  {
   "cell_type": "code",
   "execution_count": 3,
   "metadata": {},
   "outputs": [],
   "source": [
    "a_list = os.listdir(os.path.join(original_path, 'a'))\n",
    "a_list = [name.split('.A.png')[0] for name in a_list]\n",
    "\n",
    "k_list = os.listdir(os.path.join(original_path, 'k'))\n",
    "k_list = [name.split('.K.png')[0] for name in k_list]"
   ]
  },
  {
   "cell_type": "code",
   "execution_count": 4,
   "metadata": {},
   "outputs": [
    {
     "name": "stderr",
     "output_type": "stream",
     "text": [
      "100%|██████████| 86282/86282 [02:22<00:00, 605.46it/s] \n"
     ]
    }
   ],
   "source": [
    "labeled_path = os.path.join(uda_path, 'labeled')\n",
    "unlabeled_path = os.path.join(uda_path, 'unlabeled')\n",
    "\n",
    "if not os.path.exists(labeled_path):\n",
    "    os.makedirs(labeled_path)\n",
    "    \n",
    "if not os.path.exists(unlabeled_path):\n",
    "    os.makedirs(unlabeled_path)\n",
    "    \n",
    "for name in tqdm(a_list):\n",
    "    if name in k_list:\n",
    "        # labeled\n",
    "        dst_path = os.path.join(labeled_path, '1')\n",
    "        \n",
    "        if not os.path.exists(dst_path):\n",
    "            os.makedirs(dst_path)\n",
    "            \n",
    "        src_file = os.path.join(original_path, 'a', '{}.A.png'.format(name))\n",
    "        dst_file = os.path.join(dst_path, '{}.A.png'.format(name))\n",
    "        \n",
    "        shutil.copy2(src_file, dst_file)\n",
    "    else:\n",
    "        # unlabeled\n",
    "        dst_path = os.path.join(unlabeled_path, 'original')\n",
    "        \n",
    "        if not os.path.exists(dst_path):\n",
    "            os.makedirs(dst_path)\n",
    "            \n",
    "        src_file = os.path.join(original_path, 'a', '{}.A.png'.format(name))\n",
    "        dst_file = os.path.join(dst_path, '{}.A.png'.format(name))\n",
    "        \n",
    "        shutil.copy2(src_file, dst_file)"
   ]
  },
  {
   "cell_type": "markdown",
   "metadata": {},
   "source": [
    "manaually create ```uda/labeled/0``` and ```uda/unlabeled/augmented```"
   ]
  },
  {
   "cell_type": "code",
   "execution_count": null,
   "metadata": {},
   "outputs": [],
   "source": []
  }
 ],
 "metadata": {
  "kernelspec": {
   "display_name": "cc",
   "language": "python",
   "name": "pytorch"
  },
  "language_info": {
   "codemirror_mode": {
    "name": "ipython",
    "version": 3
   },
   "file_extension": ".py",
   "mimetype": "text/x-python",
   "name": "python",
   "nbconvert_exporter": "python",
   "pygments_lexer": "ipython3",
   "version": "3.7.6"
  }
 },
 "nbformat": 4,
 "nbformat_minor": 4
}
