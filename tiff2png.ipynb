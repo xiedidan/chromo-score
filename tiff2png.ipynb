{
 "cells": [
  {
   "cell_type": "code",
   "execution_count": 1,
   "metadata": {},
   "outputs": [],
   "source": [
    "import os\n",
    "import multiprocessing\n",
    "from multiprocessing import Pool\n",
    "from functools import partial\n",
    "\n",
    "from tqdm import tqdm\n",
    "import PIL\n",
    "from PIL import Image"
   ]
  },
  {
   "cell_type": "code",
   "execution_count": 2,
   "metadata": {},
   "outputs": [],
   "source": [
    "root_path = '/media/ssd-ext4/chromosome/classfication2'\n",
    "src_path = os.path.join(root_path, 'tiff')\n",
    "\n",
    "dest_path = os.path.join(root_path, 'png')\n",
    "\n",
    "if not os.path.exists(dest_path):\n",
    "    os.makedirs(dest_path)"
   ]
  },
  {
   "cell_type": "code",
   "execution_count": 3,
   "metadata": {},
   "outputs": [],
   "source": [
    "def convert_tiff_2_png(img_file, src_path='', dest_path=''):\n",
    "    name, _ = os.path.splitext(img_file)\n",
    "    \n",
    "    img_path = os.path.join(src_path, img_file)\n",
    "    img = Image.open(img_path)\n",
    "    \n",
    "    dest_file = os.path.join(dest_path, '{}.png'.format(name))\n",
    "    \n",
    "    img.save(dest_file)"
   ]
  },
  {
   "cell_type": "code",
   "execution_count": 4,
   "metadata": {},
   "outputs": [
    {
     "name": "stderr",
     "output_type": "stream",
     "text": [
      "100%|██████████| 2580/2580 [00:09<00:00, 283.38it/s]\n",
      "100%|██████████| 86282/86282 [18:48<00:00, 76.45it/s]\n"
     ]
    }
   ],
   "source": [
    "for sub in os.listdir(src_path):\n",
    "    sub_path = os.path.join(src_path, sub)\n",
    "    dst_path = os.path.join(dest_path, sub)\n",
    "    \n",
    "    if not os.path.exists(dst_path):\n",
    "        os.makedirs(dst_path)\n",
    "    \n",
    "    filenames = os.listdir(sub_path)\n",
    "    \n",
    "    convertor = partial(convert_tiff_2_png, src_path=sub_path, dest_path=dst_path)\n",
    "    \n",
    "    with Pool(multiprocessing.cpu_count()*2) as p:\n",
    "        rs = list(tqdm(\n",
    "            p.imap(convertor, filenames),\n",
    "            total=len(filenames)\n",
    "        ))"
   ]
  },
  {
   "cell_type": "code",
   "execution_count": null,
   "metadata": {},
   "outputs": [],
   "source": []
  }
 ],
 "metadata": {
  "kernelspec": {
   "display_name": "Python (chromo-score)",
   "language": "python",
   "name": "chromo-score"
  },
  "language_info": {
   "codemirror_mode": {
    "name": "ipython",
    "version": 3
   },
   "file_extension": ".py",
   "mimetype": "text/x-python",
   "name": "python",
   "nbconvert_exporter": "python",
   "pygments_lexer": "ipython3",
   "version": "3.7.6"
  }
 },
 "nbformat": 4,
 "nbformat_minor": 2
}
