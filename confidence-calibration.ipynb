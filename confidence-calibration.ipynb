{
 "cells": [
  {
   "cell_type": "markdown",
   "metadata": {},
   "source": [
    "# Confidence Calibration\n",
    "\n",
    "In our scoring application, we use positive confidence (possibility) as score of the sample. Since deep models trend to be overconfident, we cannot get a reasonable score directly with positive possibility.  \n",
    "Following [On Calibration of Modern Neural Networks](https://arxiv.org/pdf/1706.04599.pdf), we calibrate network confidence by minimizing NLL of correct class with respect to a temperature parameter.  \n",
    "Implementation with [temperature_scaling](https://github.com/gpleiss/temperature_scaling).  "
   ]
  },
  {
   "cell_type": "code",
   "execution_count": 1,
   "metadata": {},
   "outputs": [],
   "source": [
    "%reload_ext autoreload\n",
    "%autoreload 2\n",
    "%matplotlib inline\n",
    "\n",
    "import os\n",
    "import sys\n",
    "import time\n",
    "\n",
    "import torch\n",
    "import torch.nn as nn\n",
    "import torchvision\n",
    "import torchvision.transforms as transforms\n",
    "from sklearn import metrics\n",
    "from matplotlib import pyplot as plt\n",
    "\n",
    "from temperature_scaling import ModelWithTemperature\n",
    "\n",
    "from dataset import *\n",
    "from resnet import *\n",
    "from classifier import *"
   ]
  },
  {
   "cell_type": "code",
   "execution_count": 2,
   "metadata": {},
   "outputs": [],
   "source": [
    "# consts\n",
    "TRAIN_NAME = 'merge'\n",
    "TRAIN_ID = '03'\n",
    "EPOCH = 1\n",
    "\n",
    "# data consts\n",
    "# ROOT_PATH = '/home/xd/data/chromo/confi-cali/'\n",
    "ROOT_PATH = '/media/nvme/chromo-merge-class/original'\n",
    "NUM_CLASSES = 2 # fg + 1(bg)\n",
    "INPUT_SIZE = 512\n",
    "BATCH_SIZE = 64\n",
    "NUM_WORKERS = 16\n",
    "\n",
    "# trainer consts\n",
    "DEVICE = 'cuda:0'\n",
    "\n",
    "# calibrator consts\n",
    "LR = 1e-4"
   ]
  },
  {
   "cell_type": "code",
   "execution_count": 3,
   "metadata": {},
   "outputs": [],
   "source": [
    "# val_loader\n",
    "val_trans = transforms.Compose([\n",
    "    transforms.ToPILImage(),\n",
    "    PadSquare(),\n",
    "    transforms.Resize((INPUT_SIZE, INPUT_SIZE)),\n",
    "    transforms.ToTensor(),\n",
    "    transforms.Normalize(\n",
    "        mean=[0.485, 0.456, 0.406],\n",
    "        std=[0.229, 0.224, 0.225]\n",
    "    )\n",
    "])\n",
    "\n",
    "'''\n",
    "val_dataset = ConfiCaliDataset(\n",
    "    ROOT_PATH,\n",
    "    image_ext='.png',\n",
    "    transform=val_trans\n",
    ")\n",
    "'''\n",
    "\n",
    "val_dataset = ChromoDataset(\n",
    "    ROOT_PATH,\n",
    "    training=False,\n",
    "    image_ext='.png',\n",
    "    transform=val_trans\n",
    ")\n",
    "\n",
    "val_loader = DataLoader(\n",
    "    val_dataset,\n",
    "    batch_size=BATCH_SIZE,\n",
    "    # batch_sampler=val_sampler,\n",
    "    shuffle=False,\n",
    "    num_workers=NUM_WORKERS,\n",
    "    pin_memory=True\n",
    ")"
   ]
  },
  {
   "cell_type": "code",
   "execution_count": 4,
   "metadata": {},
   "outputs": [
    {
     "name": "stdout",
     "output_type": "stream",
     "text": [
      "loaded from: ./models/merge_03/001.pth\n"
     ]
    }
   ],
   "source": [
    "# load trained model\n",
    "device = torch.device(DEVICE)\n",
    "\n",
    "model = resnet50(pretrained=True, num_classes=NUM_CLASSES)\n",
    "\n",
    "checkpoint_path = os.path.join('./models', '{}_{}'.format(TRAIN_NAME, TRAIN_ID), '{:0>3d}.pth'.format(EPOCH))\n",
    "cp_state_dict = torch.load(checkpoint_path, map_location='cpu')\n",
    "\n",
    "if 'module' in list(cp_state_dict.keys())[0]:\n",
    "    new_state_dict = {}\n",
    "    \n",
    "    for key, value in cp_state_dict.items():\n",
    "        new_state_dict[key.split('.', 1)[1]] = value\n",
    "    \n",
    "    model.load_state_dict(new_state_dict)\n",
    "else:\n",
    "    model.load_state_dict(cp_state_dict)\n",
    "    \n",
    "model = model.to(device)\n",
    "model.eval()\n",
    "\n",
    "print('loaded from: {}'.format(checkpoint_path))"
   ]
  },
  {
   "cell_type": "code",
   "execution_count": 5,
   "metadata": {},
   "outputs": [
    {
     "name": "stdout",
     "output_type": "stream",
     "text": [
      "Before temperature - NLL: 0.203, ECE: 0.014\n",
      "Optimal temperature: 1.188\n",
      "After temperature - NLL: 0.199, ECE: 0.008\n",
      "calibration duration: 143.56323075294495\n"
     ]
    }
   ],
   "source": [
    "# calibration\n",
    "tik = time.time()\n",
    "\n",
    "scaled_model = ModelWithTemperature(model, lr=LR)\n",
    "scaled_model.set_temperature(val_loader)\n",
    "\n",
    "tok = time.time()\n",
    "print('calibration duration: {}'.format(tok - tik))"
   ]
  },
  {
   "cell_type": "code",
   "execution_count": 6,
   "metadata": {},
   "outputs": [
    {
     "name": "stdout",
     "output_type": "stream",
     "text": [
      "saved to: merge-03_1_cc.pth\n"
     ]
    }
   ],
   "source": [
    "save_path = '{}-{}_{}_cc.pth'.format(TRAIN_NAME, TRAIN_ID, EPOCH)\n",
    "\n",
    "torch.save(scaled_model.state_dict(), save_path)\n",
    "print('saved to: {}'.format(save_path))"
   ]
  },
  {
   "cell_type": "code",
   "execution_count": null,
   "metadata": {},
   "outputs": [],
   "source": []
  }
 ],
 "metadata": {
  "kernelspec": {
   "display_name": "Python (chromo-score)",
   "language": "python",
   "name": "chromo-score"
  },
  "language_info": {
   "codemirror_mode": {
    "name": "ipython",
    "version": 3
   },
   "file_extension": ".py",
   "mimetype": "text/x-python",
   "name": "python",
   "nbconvert_exporter": "python",
   "pygments_lexer": "ipython3",
   "version": "3.7.8"
  }
 },
 "nbformat": 4,
 "nbformat_minor": 4
}
